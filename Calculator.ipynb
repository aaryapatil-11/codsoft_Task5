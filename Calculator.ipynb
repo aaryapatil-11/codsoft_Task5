{
 "cells": [
  {
   "cell_type": "markdown",
   "id": "466b00bf-a6ea-4f97-b0e1-1ecfcf382d4d",
   "metadata": {},
   "source": [
    "# Calculator"
   ]
  },
  {
   "cell_type": "code",
   "execution_count": null,
   "id": "d6e8f158-8f96-492f-b67c-d0f98cf15153",
   "metadata": {},
   "outputs": [
    {
     "name": "stdout",
     "output_type": "stream",
     "text": [
      "Welcome to the simple calculator!\n"
     ]
    }
   ],
   "source": [
    "def add(x, y):\n",
    "    return x + y\n",
    "\n",
    "def subtract(x, y):\n",
    "    return x - y\n",
    "\n",
    "def multiply(x, y):\n",
    "    return x * y\n",
    "\n",
    "def divide(x, y):\n",
    "    if y == 0:\n",
    "        return \"Error! Division by zero.\"\n",
    "    else:\n",
    "        return x / y\n",
    "\n",
    "def calculator():\n",
    "    print(\"Welcome to the simple calculator!\")\n",
    "    while True:\n",
    "        try:\n",
    "            num1 = float(input(\"Enter the first number: \"))\n",
    "            num2 = float(input(\"Enter the second number: \"))\n",
    "            break\n",
    "        except ValueError:\n",
    "            print(\"Invalid input! Please enter numerical values.\")\n",
    "\n",
    "    print(\"\\nPlease select an operation:\")\n",
    "    print(\"1. Addition (+)\")\n",
    "    print(\"2. Subtraction (-)\")\n",
    "    print(\"3. Multiplication (*)\")\n",
    "    print(\"4. Division (/)\")\n",
    "\n",
    "    operation = input(\"Enter your choice (1/2/3/4): \")\n",
    "\n",
    "    if operation == '1':\n",
    "        print(f\"The result of addition is: {add(num1, num2)}\")\n",
    "    elif operation == '2':\n",
    "        print(f\"The result of subtraction is: {subtract(num1, num2)}\")\n",
    "    elif operation == '3':\n",
    "        print(f\"The result of multiplication is: {multiply(num1, num2)}\")\n",
    "    elif operation == '4':\n",
    "        print(f\"The result of division is: {divide(num1, num2)}\")\n",
    "    else:\n",
    "        print(\"Invalid operation choice!\")\n",
    "\n",
    "if __name__ == \"__main__\":\n",
    "    calculator()\n"
   ]
  },
  {
   "cell_type": "code",
   "execution_count": null,
   "id": "8846edfe-c9d7-4b47-9669-df6d0291d0cc",
   "metadata": {},
   "outputs": [],
   "source": []
  }
 ],
 "metadata": {
  "kernelspec": {
   "display_name": "Python 3 (ipykernel)",
   "language": "python",
   "name": "python3"
  },
  "language_info": {
   "codemirror_mode": {
    "name": "ipython",
    "version": 3
   },
   "file_extension": ".py",
   "mimetype": "text/x-python",
   "name": "python",
   "nbconvert_exporter": "python",
   "pygments_lexer": "ipython3",
   "version": "3.11.7"
  }
 },
 "nbformat": 4,
 "nbformat_minor": 5
}
